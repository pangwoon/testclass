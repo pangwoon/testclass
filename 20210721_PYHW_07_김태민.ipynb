{
 "cells": [
  {
   "cell_type": "code",
   "execution_count": 3,
   "id": "7bbb11a2",
   "metadata": {},
   "outputs": [
    {
     "name": "stdout",
     "output_type": "stream",
     "text": [
      "안녕\n",
      "Hi\n"
     ]
    }
   ],
   "source": [
    "#211\n",
    "\n",
    "def 함수(문자열):\n",
    "    \n",
    "    print(문자열)\n",
    "    \n",
    "함수(\"안녕\");\n",
    "함수(\"Hi\")\n",
    "\n",
    "                                                             # \"안녕\"이라는 입력값(인수)가 \n",
    "                                                             # 문자열이라는 매개변수에 들어가\n",
    "                                                             # def 정의되어진 과정을 거쳐\n",
    "                                                             ##### 원래는 반환값(출력값)을 가져야 하는데\n",
    "                                                             # 지금 이 함수에는 출력값이 없이 그냥 입력값이 그대로 print로 출력되어진다."
   ]
  },
  {
   "cell_type": "code",
   "execution_count": 18,
   "id": "6a8f151c",
   "metadata": {},
   "outputs": [
    {
     "name": "stdout",
     "output_type": "stream",
     "text": [
      "7\n",
      "15\n"
     ]
    }
   ],
   "source": [
    "#212\n",
    "\n",
    "def 함수(a,b):\n",
    "    print(a+b)\n",
    "    \n",
    "함수(3,4)\n",
    "함수(7,8)                                                  # 차이점 - 함수(3,4)와 함수(7,8)이 모두 출력됨\n",
    "\n",
    "                                                           # 입력값(인수)인 3,4 와 7,8 이 각각 매개변수로 들어가\n",
    "                                                           # 반환값(출력값)이 없이 각각의 객체들을 더한 값을 출력해준다."
   ]
  },
  {
   "cell_type": "code",
   "execution_count": 10,
   "id": "9f7c896a",
   "metadata": {},
   "outputs": [
    {
     "data": {
      "text/plain": [
       "(45, 34)"
      ]
     },
     "execution_count": 10,
     "metadata": {},
     "output_type": "execute_result"
    }
   ],
   "source": [
    "a=[1,2]\n",
    "b=45,34\n",
    "\n",
    "a\n",
    "b                                                          # 차이점 - a와 b중에서 가장 아래의 b만 출력됨"
   ]
  },
  {
   "cell_type": "code",
   "execution_count": 12,
   "id": "1e9b9f6b",
   "metadata": {},
   "outputs": [
    {
     "ename": "TypeError",
     "evalue": "함수() missing 1 required positional argument: '문자열'",
     "output_type": "error",
     "traceback": [
      "\u001b[1;31m---------------------------------------------------------------------------\u001b[0m",
      "\u001b[1;31mTypeError\u001b[0m                                 Traceback (most recent call last)",
      "\u001b[1;32m<ipython-input-12-001a51f1b944>\u001b[0m in \u001b[0;36m<module>\u001b[1;34m\u001b[0m\n\u001b[0;32m      5\u001b[0m     \u001b[0mprint\u001b[0m\u001b[1;33m(\u001b[0m\u001b[0m문자열\u001b[0m\u001b[1;33m)\u001b[0m\u001b[1;33m\u001b[0m\u001b[1;33m\u001b[0m\u001b[0m\n\u001b[0;32m      6\u001b[0m \u001b[1;33m\u001b[0m\u001b[0m\n\u001b[1;32m----> 7\u001b[1;33m \u001b[0m함수\u001b[0m\u001b[1;33m(\u001b[0m\u001b[1;33m)\u001b[0m\u001b[1;33m\u001b[0m\u001b[1;33m\u001b[0m\u001b[0m\n\u001b[0m",
      "\u001b[1;31mTypeError\u001b[0m: 함수() missing 1 required positional argument: '문자열'"
     ]
    }
   ],
   "source": [
    "#213\n",
    "\n",
    "def 함수(문자열):\n",
    "    \n",
    "    print(문자열)\n",
    "    \n",
    "함수()\n",
    "\n",
    "\n",
    "\n",
    "                                                           # 이와 같은 에러가 발생하는 원인으로는\n",
    "                                                           # 위 사용자 함수는 입력값(인수)을 넣어줘야 하는데 입력값 없이 함수를 실행해서 그렇다."
   ]
  },
  {
   "cell_type": "code",
   "execution_count": 13,
   "id": "729eb827",
   "metadata": {},
   "outputs": [
    {
     "ename": "TypeError",
     "evalue": "can only concatenate str (not \"int\") to str",
     "output_type": "error",
     "traceback": [
      "\u001b[1;31m---------------------------------------------------------------------------\u001b[0m",
      "\u001b[1;31mTypeError\u001b[0m                                 Traceback (most recent call last)",
      "\u001b[1;32m<ipython-input-13-a03225069fa6>\u001b[0m in \u001b[0;36m<module>\u001b[1;34m\u001b[0m\n\u001b[0;32m      4\u001b[0m     \u001b[0mprint\u001b[0m\u001b[1;33m(\u001b[0m\u001b[0ma\u001b[0m\u001b[1;33m+\u001b[0m\u001b[0mb\u001b[0m\u001b[1;33m)\u001b[0m\u001b[1;33m\u001b[0m\u001b[1;33m\u001b[0m\u001b[0m\n\u001b[0;32m      5\u001b[0m \u001b[1;33m\u001b[0m\u001b[0m\n\u001b[1;32m----> 6\u001b[1;33m \u001b[0m함수\u001b[0m\u001b[1;33m(\u001b[0m\u001b[1;34m\"안녕\"\u001b[0m\u001b[1;33m,\u001b[0m\u001b[1;36m3\u001b[0m\u001b[1;33m)\u001b[0m\u001b[1;33m\u001b[0m\u001b[1;33m\u001b[0m\u001b[0m\n\u001b[0m",
      "\u001b[1;32m<ipython-input-13-a03225069fa6>\u001b[0m in \u001b[0;36m함수\u001b[1;34m(a, b)\u001b[0m\n\u001b[0;32m      2\u001b[0m \u001b[1;33m\u001b[0m\u001b[0m\n\u001b[0;32m      3\u001b[0m \u001b[1;32mdef\u001b[0m \u001b[0m함수\u001b[0m\u001b[1;33m(\u001b[0m\u001b[0ma\u001b[0m\u001b[1;33m,\u001b[0m\u001b[0mb\u001b[0m\u001b[1;33m)\u001b[0m\u001b[1;33m:\u001b[0m\u001b[1;33m\u001b[0m\u001b[1;33m\u001b[0m\u001b[0m\n\u001b[1;32m----> 4\u001b[1;33m     \u001b[0mprint\u001b[0m\u001b[1;33m(\u001b[0m\u001b[0ma\u001b[0m\u001b[1;33m+\u001b[0m\u001b[0mb\u001b[0m\u001b[1;33m)\u001b[0m\u001b[1;33m\u001b[0m\u001b[1;33m\u001b[0m\u001b[0m\n\u001b[0m\u001b[0;32m      5\u001b[0m \u001b[1;33m\u001b[0m\u001b[0m\n\u001b[0;32m      6\u001b[0m \u001b[0m함수\u001b[0m\u001b[1;33m(\u001b[0m\u001b[1;34m\"안녕\"\u001b[0m\u001b[1;33m,\u001b[0m\u001b[1;36m3\u001b[0m\u001b[1;33m)\u001b[0m\u001b[1;33m\u001b[0m\u001b[1;33m\u001b[0m\u001b[0m\n",
      "\u001b[1;31mTypeError\u001b[0m: can only concatenate str (not \"int\") to str"
     ]
    }
   ],
   "source": [
    "#214\n",
    "\n",
    "def 함수(a,b):\n",
    "    print(a+b)\n",
    "    \n",
    "함수(\"안녕\",3)\n",
    "\n",
    "\n",
    "\n",
    "                                                               # 에러의 발생원인으로 입력값들이 같은 형태의 객체여야하는데 위 예시는\n",
    "                                                               # 문자열과 숫자의 덧셈이므로 오류가 발생한 경우이다."
   ]
  },
  {
   "cell_type": "code",
   "execution_count": 32,
   "id": "bf25e7c2",
   "metadata": {},
   "outputs": [
    {
     "name": "stdout",
     "output_type": "stream",
     "text": [
      "p:D\n"
     ]
    }
   ],
   "source": [
    "#215\n",
    "\n",
    "def print_with_smile(a):               # def 함수명(매개변수):\n",
    "    print(a+\":D\")                      #  출력할것                   # 이어 붙히기 위해 +를 사용했다\n",
    " \n",
    "print_with_smile(\"p\")                  # 함수명(인수) "
   ]
  },
  {
   "cell_type": "code",
   "execution_count": 38,
   "id": "2ff70b0a",
   "metadata": {},
   "outputs": [
    {
     "name": "stdout",
     "output_type": "stream",
     "text": [
      "p:D\n"
     ]
    }
   ],
   "source": [
    "#216\n",
    "\n",
    "def print_with_smile(안녕하세요):\n",
    "    print(안녕하세요+\":D\")\n",
    "    \n",
    "print_with_smile(\"p\")                # 문제에서 이해되지 않는게 파라미터는 매개'변수'이므로 \n",
    "                                     # \"안녕하세요\"로 하나의 문자열의 형태가 되는지 궁금하다\n",
    "                                     # 함수가 실행되기 위해선 (안녕하세요)로 쓰여져야 한다 생각함. "
   ]
  },
  {
   "cell_type": "code",
   "execution_count": 41,
   "id": "202605f3",
   "metadata": {},
   "outputs": [
    {
     "name": "stdout",
     "output_type": "stream",
     "text": [
      "1300.0\n"
     ]
    }
   ],
   "source": [
    "#217\n",
    "\n",
    "def print_upper_price(a):                # def 함수명(매개변수)\n",
    "    print(a*1.3)                         # 입력값(인수)의 1.3배를 한 결과값\n",
    "\n",
    "print_upper_price(1000)"
   ]
  },
  {
   "cell_type": "code",
   "execution_count": 42,
   "id": "5f2cda05",
   "metadata": {},
   "outputs": [
    {
     "name": "stdout",
     "output_type": "stream",
     "text": [
      "7\n"
     ]
    }
   ],
   "source": [
    "#218\n",
    "\n",
    "def print_sum(a,b):                       # 두 개의 숫자를 입력받아 두 수의 합을 출력\n",
    "    print(a+b)\n",
    "    \n",
    "print_sum(3,4)"
   ]
  },
  {
   "cell_type": "code",
   "execution_count": 43,
   "id": "e04c1780",
   "metadata": {},
   "outputs": [
    {
     "name": "stdout",
     "output_type": "stream",
     "text": [
      "12\n",
      "8\n",
      "20\n",
      "5.0\n"
     ]
    }
   ],
   "source": [
    "#219\n",
    "\n",
    "def print_arithmetic_operation(a,b):      # 두 개의 숫자를 입력받아 계산하는 사용자 함수\n",
    "    print(a+b)\n",
    "    print(a-b)\n",
    "    print(a*b)\n",
    "    print(a/b)\n",
    "    \n",
    "print_arithmetic_operation(10,2)"
   ]
  },
  {
   "cell_type": "code",
   "execution_count": 45,
   "id": "1b0cf0e5",
   "metadata": {},
   "outputs": [
    {
     "name": "stdout",
     "output_type": "stream",
     "text": [
      "789\n"
     ]
    }
   ],
   "source": [
    "#220\n",
    "\n",
    "def print_max(a,b,c):                   # if 와 elif문을 사용하여 가장 큰수를 출력하는 사용자함수를 만듬\n",
    "    if a > b and a > c:\n",
    "        print(a)\n",
    "    elif b > a and b > c:\n",
    "        print(b)\n",
    "    elif c > a and c > b:\n",
    "        print(c)\n",
    "\n",
    "print_max(123,456,789)"
   ]
  },
  {
   "cell_type": "code",
   "execution_count": 62,
   "id": "3bee8198",
   "metadata": {},
   "outputs": [
    {
     "ename": "AttributeError",
     "evalue": "'str' object has no attribute 'reverse'",
     "output_type": "error",
     "traceback": [
      "\u001b[1;31m---------------------------------------------------------------------------\u001b[0m",
      "\u001b[1;31mAttributeError\u001b[0m                            Traceback (most recent call last)",
      "\u001b[1;32m<ipython-input-62-980082f344b4>\u001b[0m in \u001b[0;36m<module>\u001b[1;34m\u001b[0m\n\u001b[0;32m      4\u001b[0m     \u001b[0mprint\u001b[0m\u001b[1;33m(\u001b[0m\u001b[0ma\u001b[0m\u001b[1;33m.\u001b[0m\u001b[0mreverse\u001b[0m\u001b[1;33m(\u001b[0m\u001b[1;33m)\u001b[0m\u001b[1;33m)\u001b[0m\u001b[1;33m\u001b[0m\u001b[1;33m\u001b[0m\u001b[0m\n\u001b[0;32m      5\u001b[0m \u001b[1;33m\u001b[0m\u001b[0m\n\u001b[1;32m----> 6\u001b[1;33m \u001b[0mprint_reverse\u001b[0m\u001b[1;33m(\u001b[0m\u001b[1;34m'happy'\u001b[0m\u001b[1;33m)\u001b[0m\u001b[1;33m\u001b[0m\u001b[1;33m\u001b[0m\u001b[0m\n\u001b[0m",
      "\u001b[1;32m<ipython-input-62-980082f344b4>\u001b[0m in \u001b[0;36mprint_reverse\u001b[1;34m(a)\u001b[0m\n\u001b[0;32m      2\u001b[0m \u001b[1;33m\u001b[0m\u001b[0m\n\u001b[0;32m      3\u001b[0m \u001b[1;32mdef\u001b[0m \u001b[0mprint_reverse\u001b[0m\u001b[1;33m(\u001b[0m\u001b[0ma\u001b[0m\u001b[1;33m)\u001b[0m\u001b[1;33m:\u001b[0m\u001b[1;33m\u001b[0m\u001b[1;33m\u001b[0m\u001b[0m\n\u001b[1;32m----> 4\u001b[1;33m     \u001b[0mprint\u001b[0m\u001b[1;33m(\u001b[0m\u001b[0ma\u001b[0m\u001b[1;33m.\u001b[0m\u001b[0mreverse\u001b[0m\u001b[1;33m(\u001b[0m\u001b[1;33m)\u001b[0m\u001b[1;33m)\u001b[0m\u001b[1;33m\u001b[0m\u001b[1;33m\u001b[0m\u001b[0m\n\u001b[0m\u001b[0;32m      5\u001b[0m \u001b[1;33m\u001b[0m\u001b[0m\n\u001b[0;32m      6\u001b[0m \u001b[0mprint_reverse\u001b[0m\u001b[1;33m(\u001b[0m\u001b[1;34m'happy'\u001b[0m\u001b[1;33m)\u001b[0m\u001b[1;33m\u001b[0m\u001b[1;33m\u001b[0m\u001b[0m\n",
      "\u001b[1;31mAttributeError\u001b[0m: 'str' object has no attribute 'reverse'"
     ]
    }
   ],
   "source": [
    "#221\n",
    "\n",
    "def print_reverse(a):\n",
    "    b=str(a)\n",
    "    print(a.reverse())                                   ############ reverse 어떻게 하는지 모르겠다.\n",
    "    \n",
    "print_reverse('happy')"
   ]
  },
  {
   "cell_type": "code",
   "execution_count": 63,
   "id": "2f3d3ec5",
   "metadata": {},
   "outputs": [
    {
     "name": "stdout",
     "output_type": "stream",
     "text": [
      "2.5\n"
     ]
    }
   ],
   "source": [
    "#222\n",
    "\n",
    "def print_score(a):                    # def 함수명(매개변수)\n",
    "    print(sum(a)/len(a))               # 평균을 내기위해 입력값들의 총합 / 입력값의 개수\n",
    "    \n",
    "print_score([1,2,3,4])"
   ]
  },
  {
   "cell_type": "code",
   "execution_count": 64,
   "id": "3db9fea3",
   "metadata": {},
   "outputs": [
    {
     "name": "stdout",
     "output_type": "stream",
     "text": [
      "2\n",
      "10\n",
      "12\n"
     ]
    }
   ],
   "source": [
    "#223\n",
    " \n",
    "def print_even(a):                      # 우선 사용자 함수를 정의\n",
    "    for n in a:                         # 리스트 내의 객체들을 하나씩 조건에 부합한지 알아보기 위해 for문 반복을 이용\n",
    "        if n%2==0:                      # if 조건문으로 짝수인지 알기위해 2로 나눈 나머지가 0인지 확인\n",
    "            print(n)                    # 위 조건에 맞으면 그 값들만 각각 출력\n",
    "\n",
    "print_even([1,3,2,10,12,11,15])"
   ]
  },
  {
   "cell_type": "code",
   "execution_count": 68,
   "id": "d32166be",
   "metadata": {},
   "outputs": [
    {
     "name": "stdout",
     "output_type": "stream",
     "text": [
      "dict_keys(['이름', '나이', '성별'])\n"
     ]
    }
   ],
   "source": [
    "#224\n",
    "\n",
    "def print_keys(a):                  \n",
    "    print(a.keys())                            # 매개변수에 .keys() 메소드를 이용해 키값들만을 출력\n",
    "    \n",
    "print_keys({\"이름\":'김말똥',\"나이\":30,\"성별\":0})"
   ]
  },
  {
   "cell_type": "code",
   "execution_count": 74,
   "id": "e155a914",
   "metadata": {},
   "outputs": [
    {
     "name": "stdout",
     "output_type": "stream",
     "text": [
      "[100, 130, 100, 100]\n"
     ]
    }
   ],
   "source": [
    "#225\n",
    "\n",
    "my_dict = {\"10/26\":[100,130,100,100],\"10/27\" : [10,12,10,11]}     # 우선 dic 입력\n",
    "\n",
    "def print_value_by_key(a,b):                                      # 사용자 함수 설정\n",
    "    if b == \"10/26\":                                              # 입력값중 두번째값에 따라 dic에서 첫번째 value값이나 두번째 value값을 출력하도록\n",
    "        print(my_dict[b])                                         # if ,elif ,else 조건문을 사용함\n",
    "    elif b == \"10/27\":\n",
    "        print(my_dict[b])\n",
    "    else:\n",
    "        pass\n",
    "    \n",
    "    \n",
    "    \n",
    "print_value_by_key(my_dict,\"10/26\")\n",
    "    "
   ]
  },
  {
   "cell_type": "code",
   "execution_count": 87,
   "id": "c7a37e34",
   "metadata": {
    "scrolled": true
   },
   "outputs": [
    {
     "name": "stdout",
     "output_type": "stream",
     "text": [
      "동해물과백\n",
      "두산이마르\n",
      "고닳도록하\n",
      "느님이보우\n"
     ]
    }
   ],
   "source": [
    "#226\n",
    "\n",
    "def print_5xn_string(a):       # 문제에서와 같이 10개의 문자를 5개씩 나누는 눈에 보이는 함수가 아닌 일반적인 함수를 만들고 싶었다.\n",
    "    n=0                        # while 반복문으로 n=0부터 시작하여 인수의 인덱스 [n:n+5]만큼의 문자를 뽑아 출력을 하고 \n",
    "    while n+5 <= len(a):      # 한번의 출력이 끝나면 그 다음 5개의 문자를 출력할수있도록 n=n+5를 추가하였다.\n",
    "        print(a[n:n+5])        # 한 줄에 다섯글자씩을 출력하는 함수라 한줄에 다섯글자 미만이되는 나머지의 글자들은 출력을 신경쓰지 않았다.\n",
    "        n=n+5\n",
    "        \n",
    "        \n",
    "print_5xn_string(\"동해물과백두산이마르고닳도록하느님이보우하사\")"
   ]
  },
  {
   "cell_type": "code",
   "execution_count": 88,
   "id": "99e976e9",
   "metadata": {},
   "outputs": [
    {
     "name": "stdout",
     "output_type": "stream",
     "text": [
      "바람서\n",
      "리불변\n",
      "함은우\n",
      "리기상\n"
     ]
    }
   ],
   "source": [
    "#227\n",
    "\n",
    "def print_mxn_string(a,b):      # 위 문제와 같으나 한 줄에 출력될 글자 수를 지정해 슬라이싱을 하였다.\n",
    "    c=0\n",
    "    while c+b <= len(a):\n",
    "        print(a[c:c+b])\n",
    "        c=c+b\n",
    "        \n",
    "print_mxn_string(\"바람서리불변함은우리기상일세\",3)\n",
    "    "
   ]
  },
  {
   "cell_type": "code",
   "execution_count": 81,
   "id": "c9e37b56",
   "metadata": {},
   "outputs": [
    {
     "name": "stdout",
     "output_type": "stream",
     "text": [
      "100000\n"
     ]
    }
   ],
   "source": [
    "#228\n",
    "\n",
    "def calc_monthly_salary_annual_salary(a):   # 사용자함수 설정\n",
    "    print(int(a/12))                        # 1원 미만은 버림한다는 말은 곧 소수점이 없는 정수형태로 출력한다는 의미와 같다.\n",
    "    \n",
    "calc_monthly_salary_annual_salary(1200000)"
   ]
  },
  {
   "cell_type": "code",
   "execution_count": 84,
   "id": "8e0bb7c2",
   "metadata": {},
   "outputs": [
    {
     "name": "stdout",
     "output_type": "stream",
     "text": [
      "왼쪽: 100\n",
      "오른쪽: 200\n"
     ]
    }
   ],
   "source": [
    "#229\n",
    "\n",
    "def my_print(a,b):\n",
    "    print(\"왼쪽:\",a)\n",
    "    print(\"오른쪽:\",b)\n",
    "     \n",
    "my_print(a=100,b=200)                 # 왼쪽: a \n",
    "                                      # 오른쪽: b    (콤마로 연결되어있어 공백이 존재)"
   ]
  },
  {
   "cell_type": "code",
   "execution_count": 86,
   "id": "47a1f834",
   "metadata": {},
   "outputs": [
    {
     "name": "stdout",
     "output_type": "stream",
     "text": [
      "왼쪽: 200\n",
      "오른쪽: 100\n"
     ]
    }
   ],
   "source": [
    "#230\n",
    "\n",
    "def my_print(a,b):\n",
    "    print(\"왼쪽:\",a)\n",
    "    print(\"오른쪽:\",b)\n",
    "    \n",
    "my_print(b=100,a=200)\n",
    "\n",
    "\n",
    "# 229번과 같게 나올것같다. - 틀림\n",
    "\n",
    "\n",
    "#229번과 230의 차이점으로는 하나씩 따져보면 \n",
    "\n",
    "#229번은 매개변수 a자리에 a=100이라는 입력값(인수)가 들어간것이다. \n",
    "#따라서 print(\"왼쪽:\",a)가 출력될때 매개변수 a는 인수 a=100의 값과 같아 \n",
    "#결국 왼쪽:100이 출력되어진것이고 \n",
    "#\n",
    "#230번은 매개변수 a자리에 인수 b=100이 입력되어진것이라\n",
    "#print(\"오른쪽:\",b)가 실행되기전 매개변수 b에 인수 b=100이 들어간것이라\n",
    "#결국 오른쪽: 100이 출력되어진것이다.\n",
    "#    \n",
    "#중요한점 - 입력값의 순서가 어떻든지 간에 입력값의 설정을 바꾸면 결과도 바뀐다!!!"
   ]
  },
  {
   "cell_type": "code",
   "execution_count": null,
   "id": "0e0da528",
   "metadata": {},
   "outputs": [],
   "source": []
  }
 ],
 "metadata": {
  "kernelspec": {
   "display_name": "Python 3",
   "language": "python",
   "name": "python3"
  },
  "language_info": {
   "codemirror_mode": {
    "name": "ipython",
    "version": 3
   },
   "file_extension": ".py",
   "mimetype": "text/x-python",
   "name": "python",
   "nbconvert_exporter": "python",
   "pygments_lexer": "ipython3",
   "version": "3.8.8"
  }
 },
 "nbformat": 4,
 "nbformat_minor": 5
}
